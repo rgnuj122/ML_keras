{
 "cells": [
  {
   "cell_type": "code",
   "execution_count": 1,
   "metadata": {},
   "outputs": [
    {
     "name": "stderr",
     "output_type": "stream",
     "text": [
      "Using TensorFlow backend.\n"
     ]
    }
   ],
   "source": [
    "import numpy as np\n",
    "from keras.models import Sequential"
   ]
  },
  {
   "cell_type": "code",
   "execution_count": 2,
   "metadata": {},
   "outputs": [],
   "source": [
    "from keras.layers.core import Dense, Dropout, Activation"
   ]
  },
  {
   "cell_type": "code",
   "execution_count": 3,
   "metadata": {},
   "outputs": [],
   "source": [
    "from keras.layers import Conv2D, MaxPooling2D, Flatten"
   ]
  },
  {
   "cell_type": "code",
   "execution_count": 4,
   "metadata": {},
   "outputs": [],
   "source": [
    "from keras.optimizers import SGD, Adam"
   ]
  },
  {
   "cell_type": "code",
   "execution_count": 5,
   "metadata": {},
   "outputs": [],
   "source": [
    "from keras.utils import np_utils"
   ]
  },
  {
   "cell_type": "code",
   "execution_count": 6,
   "metadata": {},
   "outputs": [],
   "source": [
    "from keras.datasets import mnist"
   ]
  },
  {
   "cell_type": "code",
   "execution_count": 7,
   "metadata": {},
   "outputs": [],
   "source": [
    "def load_data():\n",
    "    (x_train, y_train), (x_test, y_test) = mnist.load_data()\n",
    "    number = 10000\n",
    "    x_train = x_train[0:number]\n",
    "    y_train = y_train[0:number]\n",
    "    x_train = x_train.reshape(number, 28*28)\n",
    "    x_test = x_test.reshape(x_test.shape[0], 28*28)\n",
    "    x_train = x_train.astype('float32')\n",
    "    x_test = x_test.astype('float32')\n",
    "    \n",
    "    y_train = np_utils.to_categorical(y_train, 10)\n",
    "    y_test = np_utils.to_categorical(y_test, 10)\n",
    "    x_train=x_train\n",
    "    x_test=x_test\n",
    "    x_train=x_train/255\n",
    "    x_test=x_test/255\n",
    "    return (x_train, y_train), (x_test, y_test)"
   ]
  },
  {
   "cell_type": "code",
   "execution_count": 8,
   "metadata": {},
   "outputs": [],
   "source": [
    "(x_train, y_train), (x_test, y_test) = load_data()"
   ]
  },
  {
   "cell_type": "code",
   "execution_count": 9,
   "metadata": {},
   "outputs": [],
   "source": [
    "model = Sequential()"
   ]
  },
  {
   "cell_type": "code",
   "execution_count": 10,
   "metadata": {},
   "outputs": [],
   "source": [
    "model.add(Dense(input_dim=28*28, units=689,activation='relu'))"
   ]
  },
  {
   "cell_type": "code",
   "execution_count": 11,
   "metadata": {},
   "outputs": [],
   "source": [
    "model.add(Dense(units=689, activation='relu'))"
   ]
  },
  {
   "cell_type": "code",
   "execution_count": 12,
   "metadata": {},
   "outputs": [],
   "source": [
    "model.add(Dense(units=689, activation='relu'))\n",
    "for i in range(10):\n",
    "    model.add(Dense(units=689, activation='relu'))"
   ]
  },
  {
   "cell_type": "code",
   "execution_count": 13,
   "metadata": {},
   "outputs": [],
   "source": [
    "model.add(Dense(units=10, activation='softmax'))"
   ]
  },
  {
   "cell_type": "code",
   "execution_count": 14,
   "metadata": {},
   "outputs": [],
   "source": [
    "#model.compile(loss='mse', optimizer=SGD(lr=0.1), metrics=['accuracy'])\n",
    "model.compile(loss='categorical_crossentropy', optimizer=SGD(lr=0.1), metrics=['accuracy'])"
   ]
  },
  {
   "cell_type": "code",
   "execution_count": 15,
   "metadata": {
    "scrolled": true
   },
   "outputs": [
    {
     "name": "stdout",
     "output_type": "stream",
     "text": [
      "Epoch 1/20\n",
      "10000/10000 [==============================] - 11s - loss: 2.2556 - acc: 0.2032    \n",
      "Epoch 2/20\n",
      "10000/10000 [==============================] - 10s - loss: 1.7900 - acc: 0.3203    \n",
      "Epoch 3/20\n",
      "10000/10000 [==============================] - 10s - loss: 1.0922 - acc: 0.5993    \n",
      "Epoch 4/20\n",
      "10000/10000 [==============================] - 10s - loss: 0.6454 - acc: 0.7965    \n",
      "Epoch 5/20\n",
      "10000/10000 [==============================] - 10s - loss: 0.3551 - acc: 0.9001    \n",
      "Epoch 6/20\n",
      "10000/10000 [==============================] - 11s - loss: 0.2418 - acc: 0.9359    \n",
      "Epoch 7/20\n",
      "10000/10000 [==============================] - 10s - loss: 0.1790 - acc: 0.9516    \n",
      "Epoch 8/20\n",
      "10000/10000 [==============================] - 11s - loss: 0.1328 - acc: 0.9652    \n",
      "Epoch 9/20\n",
      "10000/10000 [==============================] - 11s - loss: 0.1520 - acc: 0.9591    \n",
      "Epoch 10/20\n",
      "10000/10000 [==============================] - 10s - loss: 0.0926 - acc: 0.9757    \n",
      "Epoch 11/20\n",
      "10000/10000 [==============================] - 10s - loss: 0.0590 - acc: 0.9855    \n",
      "Epoch 12/20\n",
      "10000/10000 [==============================] - 10s - loss: 0.0487 - acc: 0.9872    \n",
      "Epoch 13/20\n",
      "10000/10000 [==============================] - 10s - loss: 0.0410 - acc: 0.9897    \n",
      "Epoch 14/20\n",
      "10000/10000 [==============================] - 11s - loss: 0.0544 - acc: 0.9871    \n",
      "Epoch 15/20\n",
      "10000/10000 [==============================] - 11s - loss: 0.1239 - acc: 0.9703    \n",
      "Epoch 16/20\n",
      "10000/10000 [==============================] - 10s - loss: 0.0243 - acc: 0.9938    \n",
      "Epoch 17/20\n",
      "10000/10000 [==============================] - 10s - loss: 0.0132 - acc: 0.9969    \n",
      "Epoch 18/20\n",
      "10000/10000 [==============================] - 10s - loss: 0.0708 - acc: 0.9826    \n",
      "Epoch 19/20\n",
      "10000/10000 [==============================] - 12s - loss: 0.0103 - acc: 0.9970    \n",
      "Epoch 20/20\n",
      "10000/10000 [==============================] - 11s - loss: 0.0129 - acc: 0.9973    \n",
      "10000/10000 [==============================] - 1s\n",
      "\n",
      "Train Acc: 0.995500028133\n",
      "10000/10000 [==============================] - 1s\n",
      "\n",
      "Test Acc: 0.949400007725\n"
     ]
    }
   ],
   "source": [
    "model.fit(x_train, y_train, batch_size=100 ,epochs=20)\n",
    "result = model.evaluate(x_train, y_train, batch_size=10000)\n",
    "print ('\\nTrain Acc:', result[1])\n",
    "result = model.evaluate(x_test, y_test, batch_size=10000)\n",
    "print ('\\nTest Acc:', result[1])"
   ]
  },
  {
   "cell_type": "code",
   "execution_count": null,
   "metadata": {},
   "outputs": [],
   "source": []
  },
  {
   "cell_type": "code",
   "execution_count": null,
   "metadata": {},
   "outputs": [],
   "source": []
  }
 ],
 "metadata": {
  "kernelspec": {
   "display_name": "Python 3",
   "language": "python",
   "name": "python3"
  },
  "language_info": {
   "codemirror_mode": {
    "name": "ipython",
    "version": 3
   },
   "file_extension": ".py",
   "mimetype": "text/x-python",
   "name": "python",
   "nbconvert_exporter": "python",
   "pygments_lexer": "ipython3",
   "version": "3.5.4"
  }
 },
 "nbformat": 4,
 "nbformat_minor": 2
}
