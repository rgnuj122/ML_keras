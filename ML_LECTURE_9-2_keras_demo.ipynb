{
 "cells": [
  {
   "cell_type": "code",
   "execution_count": 5,
   "metadata": {},
   "outputs": [],
   "source": [
    "import numpy as np\n",
    "from keras.models import Sequential"
   ]
  },
  {
   "cell_type": "code",
   "execution_count": 6,
   "metadata": {},
   "outputs": [],
   "source": [
    "from keras.layers.core import Dense, Dropout, Activation"
   ]
  },
  {
   "cell_type": "code",
   "execution_count": 7,
   "metadata": {},
   "outputs": [],
   "source": [
    "from keras.layers import Conv2D, MaxPooling2D, Flatten"
   ]
  },
  {
   "cell_type": "code",
   "execution_count": 8,
   "metadata": {},
   "outputs": [],
   "source": [
    "from keras.optimizers import SGD, Adam"
   ]
  },
  {
   "cell_type": "code",
   "execution_count": 9,
   "metadata": {},
   "outputs": [],
   "source": [
    "from keras.utils import np_utils"
   ]
  },
  {
   "cell_type": "code",
   "execution_count": 10,
   "metadata": {},
   "outputs": [],
   "source": [
    "from keras.datasets import mnist"
   ]
  },
  {
   "cell_type": "code",
   "execution_count": 11,
   "metadata": {},
   "outputs": [],
   "source": [
    "def load_data():\n",
    "    (x_train, y_train), (x_test, y_test) = mnist.load_data()\n",
    "    number = 10000\n",
    "    x_train = x_train[0:number]\n",
    "    y_train = y_train[0:number]\n",
    "    x_train = x_train.reshape(number, 28*28)\n",
    "    x_test = x_test.reshape(x_test.shape[0], 28*28)\n",
    "    x_train = x_train.astype('float32')\n",
    "    x_test = x_test.astype('float32')\n",
    "    \n",
    "    y_train = np_utils.to_categorical(y_train, 10)\n",
    "    y_test = np_utils.to_categorical(y_test, 10)\n",
    "    x_train=x_train\n",
    "    x_test=x_test\n",
    "    x_train=x_train/255\n",
    "    x_test=x_test/255\n",
    "    return (x_train, y_train), (x_test, y_test)"
   ]
  },
  {
   "cell_type": "code",
   "execution_count": 12,
   "metadata": {},
   "outputs": [],
   "source": [
    "(x_train, y_train), (x_test, y_test) = load_data()"
   ]
  },
  {
   "cell_type": "code",
   "execution_count": 13,
   "metadata": {},
   "outputs": [],
   "source": [
    "model = Sequential()"
   ]
  },
  {
   "cell_type": "code",
   "execution_count": 34,
   "metadata": {},
   "outputs": [],
   "source": [
    "model.add(Dense(input_dim=28*28, units=689,activation='sigmoid'))"
   ]
  },
  {
   "cell_type": "code",
   "execution_count": 35,
   "metadata": {},
   "outputs": [],
   "source": [
    "model.add(Dense(units=689, activation='sigmoid'))"
   ]
  },
  {
   "cell_type": "code",
   "execution_count": 36,
   "metadata": {},
   "outputs": [],
   "source": [
    "model.add(Dense(units=689, activation='sigmoid'))\n",
    "for i in range(10):\n",
    "    model.add(Dense(units=689, activation='sigmoid'))"
   ]
  },
  {
   "cell_type": "code",
   "execution_count": 37,
   "metadata": {},
   "outputs": [],
   "source": [
    "model.add(Dense(units=10, activation='softmax'))"
   ]
  },
  {
   "cell_type": "code",
   "execution_count": 38,
   "metadata": {},
   "outputs": [],
   "source": [
    "#model.compile(loss='mse', optimizer=SGD(lr=0.1), metrics=['accuracy'])\n",
    "model.compile(loss='categorical_crossentropy', optimizer=SGD(lr=0.1), metrics=['accuracy'])"
   ]
  },
  {
   "cell_type": "code",
   "execution_count": 39,
   "metadata": {
    "scrolled": true
   },
   "outputs": [
    {
     "name": "stdout",
     "output_type": "stream",
     "text": [
      "Epoch 1/20\n",
      "10000/10000 [==============================] - 22s - loss: 2.5244 - acc: 0.1051    \n",
      "Epoch 2/20\n",
      "10000/10000 [==============================] - 21s - loss: 2.3748 - acc: 0.1012    \n",
      "Epoch 3/20\n",
      "10000/10000 [==============================] - 22s - loss: 2.3471 - acc: 0.1007    \n",
      "Epoch 4/20\n",
      "10000/10000 [==============================] - 21s - loss: 2.3270 - acc: 0.1052    \n",
      "Epoch 5/20\n",
      "10000/10000 [==============================] - 21s - loss: 2.3264 - acc: 0.1025    \n",
      "Epoch 6/20\n",
      "10000/10000 [==============================] - 21s - loss: 2.3210 - acc: 0.1030    \n",
      "Epoch 7/20\n",
      "10000/10000 [==============================] - 24s - loss: 2.3160 - acc: 0.1016    \n",
      "Epoch 8/20\n",
      "10000/10000 [==============================] - 22s - loss: 2.3166 - acc: 0.1031    \n",
      "Epoch 9/20\n",
      "10000/10000 [==============================] - 21s - loss: 2.3126 - acc: 0.1017    \n",
      "Epoch 10/20\n",
      "10000/10000 [==============================] - 21s - loss: 2.3119 - acc: 0.0992    \n",
      "Epoch 11/20\n",
      "10000/10000 [==============================] - 21s - loss: 2.3116 - acc: 0.1026    \n",
      "Epoch 12/20\n",
      "10000/10000 [==============================] - 21s - loss: 2.3093 - acc: 0.0993    \n",
      "Epoch 13/20\n",
      "10000/10000 [==============================] - 21s - loss: 2.3098 - acc: 0.0995    \n",
      "Epoch 14/20\n",
      "10000/10000 [==============================] - 21s - loss: 2.3067 - acc: 0.1064    \n",
      "Epoch 15/20\n",
      "10000/10000 [==============================] - 23s - loss: 2.3083 - acc: 0.1040    \n",
      "Epoch 16/20\n",
      "10000/10000 [==============================] - 23s - loss: 2.3067 - acc: 0.1068    \n",
      "Epoch 17/20\n",
      "10000/10000 [==============================] - 22s - loss: 2.3072 - acc: 0.1071    \n",
      "Epoch 18/20\n",
      "10000/10000 [==============================] - 23s - loss: 2.3060 - acc: 0.1021    \n",
      "Epoch 19/20\n",
      "10000/10000 [==============================] - 23s - loss: 2.3073 - acc: 0.1035    \n",
      "Epoch 20/20\n",
      "10000/10000 [==============================] - 23s - loss: 2.3056 - acc: 0.1062    \n",
      "10000/10000 [==============================] - 4s\n",
      "\n",
      "Train Acc: 0.107000000775\n",
      "10000/10000 [==============================] - 3s\n",
      "\n",
      "Test Acc: 0.102799996734\n"
     ]
    }
   ],
   "source": [
    "model.fit(x_train, y_train, batch_size=100 ,epochs=20)\n",
    "result = model.evaluate(x_train, y_train, batch_size=10000)\n",
    "print ('\\nTrain Acc:', result[1])\n",
    "result = model.evaluate(x_test, y_test, batch_size=10000)\n",
    "print ('\\nTest Acc:', result[1])"
   ]
  },
  {
   "cell_type": "code",
   "execution_count": null,
   "metadata": {},
   "outputs": [],
   "source": []
  },
  {
   "cell_type": "code",
   "execution_count": null,
   "metadata": {},
   "outputs": [],
   "source": []
  }
 ],
 "metadata": {
  "kernelspec": {
   "display_name": "Python 3",
   "language": "python",
   "name": "python3"
  },
  "language_info": {
   "codemirror_mode": {
    "name": "ipython",
    "version": 3
   },
   "file_extension": ".py",
   "mimetype": "text/x-python",
   "name": "python",
   "nbconvert_exporter": "python",
   "pygments_lexer": "ipython3",
   "version": "3.5.4"
  }
 },
 "nbformat": 4,
 "nbformat_minor": 2
}
